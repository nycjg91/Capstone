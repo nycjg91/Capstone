{
 "cells": [
  {
   "cell_type": "code",
   "execution_count": 1,
   "metadata": {},
   "outputs": [],
   "source": [
    "import pandas as pd\n",
    "import numpy as np\n",
    "import scipy as sp\n",
    "import csv\n",
    "import astropy as ast\n",
    "import os\n",
    "import sys\n",
    "import math\n",
    "import matplotlib.pyplot as plt\n",
    "import xlrd\n",
    "import openpyxl"
   ]
  },
  {
   "cell_type": "code",
   "execution_count": 2,
   "metadata": {},
   "outputs": [],
   "source": [
    "os.chdir('Desktop')"
   ]
  },
  {
   "cell_type": "code",
   "execution_count": 3,
   "metadata": {},
   "outputs": [],
   "source": [
    "gena=pd.read_csv('.\\capstone proj\\genacop.csv')\n",
    "mratio=pd.read_csv('.\\capstone proj\\mration.csv')"
   ]
  },
  {
   "cell_type": "code",
   "execution_count": 4,
   "metadata": {},
   "outputs": [
    {
     "data": {
      "text/plain": [
       "Index(['recno', 'Name', 'fb', 'fc', 'RAJ2000', 'DEJ2000', 'logTe', 'Fe/H',\n",
       "       'Dist', 'VMag', 'e_VMag', 'age', 'clage', 'chage', 'Rmin', 'Rmax',\n",
       "       'ecc', 'zmax', 'Vmag', 'b-y', 'm1', 'c1'],\n",
       "      dtype='object')"
      ]
     },
     "execution_count": 4,
     "metadata": {},
     "output_type": "execute_result"
    }
   ],
   "source": [
    "gena.columns"
   ]
  },
  {
   "cell_type": "code",
   "execution_count": 5,
   "metadata": {},
   "outputs": [],
   "source": [
    "#VMag is absol, Vmag is visual\n",
    "#m1 stroemegen...((v-b)-(b-y)))\n",
    "#c1 stroemegen....((u-v)-(v-b))"
   ]
  },
  {
   "cell_type": "code",
   "execution_count": 6,
   "metadata": {},
   "outputs": [
    {
     "data": {
      "text/plain": [
       "recno         0\n",
       "Name          0\n",
       "fb            0\n",
       "fc            0\n",
       "RAJ2000       0\n",
       "DEJ2000       0\n",
       "logTe       288\n",
       "Fe/H        288\n",
       "Dist        596\n",
       "VMag        596\n",
       "e_VMag      596\n",
       "age        2331\n",
       "clage      3445\n",
       "chage      2124\n",
       "Rmin       3162\n",
       "Rmax       3162\n",
       "ecc        3162\n",
       "zmax       3162\n",
       "Vmag          0\n",
       "b-y           0\n",
       "m1            0\n",
       "c1            0\n",
       "dtype: int64"
      ]
     },
     "execution_count": 6,
     "metadata": {},
     "output_type": "execute_result"
    }
   ],
   "source": [
    "gena.isnull().sum()"
   ]
  },
  {
   "cell_type": "code",
   "execution_count": 7,
   "metadata": {},
   "outputs": [
    {
     "data": {
      "text/html": [
       "<div>\n",
       "<style scoped>\n",
       "    .dataframe tbody tr th:only-of-type {\n",
       "        vertical-align: middle;\n",
       "    }\n",
       "\n",
       "    .dataframe tbody tr th {\n",
       "        vertical-align: top;\n",
       "    }\n",
       "\n",
       "    .dataframe thead th {\n",
       "        text-align: right;\n",
       "    }\n",
       "</style>\n",
       "<table border=\"1\" class=\"dataframe\">\n",
       "  <thead>\n",
       "    <tr style=\"text-align: right;\">\n",
       "      <th></th>\n",
       "      <th>recno</th>\n",
       "      <th>fb</th>\n",
       "      <th>fc</th>\n",
       "      <th>logTe</th>\n",
       "      <th>Fe/H</th>\n",
       "      <th>Dist</th>\n",
       "      <th>VMag</th>\n",
       "      <th>e_VMag</th>\n",
       "      <th>age</th>\n",
       "      <th>clage</th>\n",
       "      <th>chage</th>\n",
       "      <th>Rmin</th>\n",
       "      <th>Rmax</th>\n",
       "      <th>ecc</th>\n",
       "      <th>zmax</th>\n",
       "      <th>Vmag</th>\n",
       "      <th>b-y</th>\n",
       "      <th>m1</th>\n",
       "      <th>c1</th>\n",
       "    </tr>\n",
       "  </thead>\n",
       "  <tbody>\n",
       "    <tr>\n",
       "      <th>count</th>\n",
       "      <td>16682.000000</td>\n",
       "      <td>16682.000000</td>\n",
       "      <td>16682.000000</td>\n",
       "      <td>16394.000000</td>\n",
       "      <td>16394.000000</td>\n",
       "      <td>16086.000000</td>\n",
       "      <td>16086.000000</td>\n",
       "      <td>16086.000000</td>\n",
       "      <td>14351.000000</td>\n",
       "      <td>13237.000000</td>\n",
       "      <td>14558.000000</td>\n",
       "      <td>13520.000000</td>\n",
       "      <td>13520.000000</td>\n",
       "      <td>13520.000000</td>\n",
       "      <td>13520.000000</td>\n",
       "      <td>16682.000000</td>\n",
       "      <td>16682.000000</td>\n",
       "      <td>16682.000000</td>\n",
       "      <td>16682.000000</td>\n",
       "    </tr>\n",
       "    <tr>\n",
       "      <th>mean</th>\n",
       "      <td>8341.500000</td>\n",
       "      <td>0.373337</td>\n",
       "      <td>0.012888</td>\n",
       "      <td>3.783675</td>\n",
       "      <td>-0.166543</td>\n",
       "      <td>91.647893</td>\n",
       "      <td>3.433385</td>\n",
       "      <td>0.162228</td>\n",
       "      <td>3.847147</td>\n",
       "      <td>3.126970</td>\n",
       "      <td>4.818320</td>\n",
       "      <td>6.831822</td>\n",
       "      <td>8.626397</td>\n",
       "      <td>0.118911</td>\n",
       "      <td>0.238896</td>\n",
       "      <td>7.893304</td>\n",
       "      <td>0.349308</td>\n",
       "      <td>0.187115</td>\n",
       "      <td>0.436111</td>\n",
       "    </tr>\n",
       "    <tr>\n",
       "      <th>std</th>\n",
       "      <td>4815.822931</td>\n",
       "      <td>0.483705</td>\n",
       "      <td>0.145312</td>\n",
       "      <td>0.036173</td>\n",
       "      <td>0.237178</td>\n",
       "      <td>64.586222</td>\n",
       "      <td>1.233412</td>\n",
       "      <td>0.086970</td>\n",
       "      <td>3.218388</td>\n",
       "      <td>2.630965</td>\n",
       "      <td>3.852542</td>\n",
       "      <td>0.987846</td>\n",
       "      <td>0.950437</td>\n",
       "      <td>0.089220</td>\n",
       "      <td>0.474743</td>\n",
       "      <td>0.934169</td>\n",
       "      <td>0.084476</td>\n",
       "      <td>0.073065</td>\n",
       "      <td>0.126444</td>\n",
       "    </tr>\n",
       "    <tr>\n",
       "      <th>min</th>\n",
       "      <td>1.000000</td>\n",
       "      <td>0.000000</td>\n",
       "      <td>0.000000</td>\n",
       "      <td>3.637000</td>\n",
       "      <td>-2.700000</td>\n",
       "      <td>1.000000</td>\n",
       "      <td>-3.010000</td>\n",
       "      <td>0.000000</td>\n",
       "      <td>0.200000</td>\n",
       "      <td>0.200000</td>\n",
       "      <td>0.300000</td>\n",
       "      <td>0.030000</td>\n",
       "      <td>7.440000</td>\n",
       "      <td>0.000000</td>\n",
       "      <td>0.000000</td>\n",
       "      <td>-0.290000</td>\n",
       "      <td>0.204000</td>\n",
       "      <td>0.014000</td>\n",
       "      <td>-0.265000</td>\n",
       "    </tr>\n",
       "    <tr>\n",
       "      <th>25%</th>\n",
       "      <td>4171.250000</td>\n",
       "      <td>0.000000</td>\n",
       "      <td>0.000000</td>\n",
       "      <td>3.762000</td>\n",
       "      <td>-0.260000</td>\n",
       "      <td>54.000000</td>\n",
       "      <td>2.670000</td>\n",
       "      <td>0.090000</td>\n",
       "      <td>1.800000</td>\n",
       "      <td>1.500000</td>\n",
       "      <td>2.000000</td>\n",
       "      <td>6.430000</td>\n",
       "      <td>8.120000</td>\n",
       "      <td>0.060000</td>\n",
       "      <td>0.080000</td>\n",
       "      <td>7.432000</td>\n",
       "      <td>0.290000</td>\n",
       "      <td>0.152000</td>\n",
       "      <td>0.346000</td>\n",
       "    </tr>\n",
       "    <tr>\n",
       "      <th>50%</th>\n",
       "      <td>8341.500000</td>\n",
       "      <td>0.000000</td>\n",
       "      <td>0.000000</td>\n",
       "      <td>3.788000</td>\n",
       "      <td>-0.140000</td>\n",
       "      <td>79.000000</td>\n",
       "      <td>3.360000</td>\n",
       "      <td>0.150000</td>\n",
       "      <td>2.600000</td>\n",
       "      <td>2.200000</td>\n",
       "      <td>3.100000</td>\n",
       "      <td>7.010000</td>\n",
       "      <td>8.410000</td>\n",
       "      <td>0.100000</td>\n",
       "      <td>0.150000</td>\n",
       "      <td>7.992000</td>\n",
       "      <td>0.339000</td>\n",
       "      <td>0.166000</td>\n",
       "      <td>0.417000</td>\n",
       "    </tr>\n",
       "    <tr>\n",
       "      <th>75%</th>\n",
       "      <td>12511.750000</td>\n",
       "      <td>1.000000</td>\n",
       "      <td>0.000000</td>\n",
       "      <td>3.810000</td>\n",
       "      <td>-0.030000</td>\n",
       "      <td>112.000000</td>\n",
       "      <td>4.160000</td>\n",
       "      <td>0.260000</td>\n",
       "      <td>5.000000</td>\n",
       "      <td>3.600000</td>\n",
       "      <td>6.600000</td>\n",
       "      <td>7.550000</td>\n",
       "      <td>8.880000</td>\n",
       "      <td>0.150000</td>\n",
       "      <td>0.260000</td>\n",
       "      <td>8.435000</td>\n",
       "      <td>0.400000</td>\n",
       "      <td>0.193000</td>\n",
       "      <td>0.501000</td>\n",
       "    </tr>\n",
       "    <tr>\n",
       "      <th>max</th>\n",
       "      <td>16682.000000</td>\n",
       "      <td>1.000000</td>\n",
       "      <td>2.000000</td>\n",
       "      <td>3.848000</td>\n",
       "      <td>0.730000</td>\n",
       "      <td>2192.000000</td>\n",
       "      <td>10.870000</td>\n",
       "      <td>0.280000</td>\n",
       "      <td>17.500000</td>\n",
       "      <td>16.800000</td>\n",
       "      <td>17.500000</td>\n",
       "      <td>8.410000</td>\n",
       "      <td>42.390000</td>\n",
       "      <td>1.000000</td>\n",
       "      <td>19.640000</td>\n",
       "      <td>12.703000</td>\n",
       "      <td>1.088000</td>\n",
       "      <td>0.847000</td>\n",
       "      <td>1.035000</td>\n",
       "    </tr>\n",
       "  </tbody>\n",
       "</table>\n",
       "</div>"
      ],
      "text/plain": [
       "              recno            fb            fc         logTe          Fe/H  \\\n",
       "count  16682.000000  16682.000000  16682.000000  16394.000000  16394.000000   \n",
       "mean    8341.500000      0.373337      0.012888      3.783675     -0.166543   \n",
       "std     4815.822931      0.483705      0.145312      0.036173      0.237178   \n",
       "min        1.000000      0.000000      0.000000      3.637000     -2.700000   \n",
       "25%     4171.250000      0.000000      0.000000      3.762000     -0.260000   \n",
       "50%     8341.500000      0.000000      0.000000      3.788000     -0.140000   \n",
       "75%    12511.750000      1.000000      0.000000      3.810000     -0.030000   \n",
       "max    16682.000000      1.000000      2.000000      3.848000      0.730000   \n",
       "\n",
       "               Dist          VMag        e_VMag           age         clage  \\\n",
       "count  16086.000000  16086.000000  16086.000000  14351.000000  13237.000000   \n",
       "mean      91.647893      3.433385      0.162228      3.847147      3.126970   \n",
       "std       64.586222      1.233412      0.086970      3.218388      2.630965   \n",
       "min        1.000000     -3.010000      0.000000      0.200000      0.200000   \n",
       "25%       54.000000      2.670000      0.090000      1.800000      1.500000   \n",
       "50%       79.000000      3.360000      0.150000      2.600000      2.200000   \n",
       "75%      112.000000      4.160000      0.260000      5.000000      3.600000   \n",
       "max     2192.000000     10.870000      0.280000     17.500000     16.800000   \n",
       "\n",
       "              chage          Rmin          Rmax           ecc          zmax  \\\n",
       "count  14558.000000  13520.000000  13520.000000  13520.000000  13520.000000   \n",
       "mean       4.818320      6.831822      8.626397      0.118911      0.238896   \n",
       "std        3.852542      0.987846      0.950437      0.089220      0.474743   \n",
       "min        0.300000      0.030000      7.440000      0.000000      0.000000   \n",
       "25%        2.000000      6.430000      8.120000      0.060000      0.080000   \n",
       "50%        3.100000      7.010000      8.410000      0.100000      0.150000   \n",
       "75%        6.600000      7.550000      8.880000      0.150000      0.260000   \n",
       "max       17.500000      8.410000     42.390000      1.000000     19.640000   \n",
       "\n",
       "               Vmag           b-y            m1            c1  \n",
       "count  16682.000000  16682.000000  16682.000000  16682.000000  \n",
       "mean       7.893304      0.349308      0.187115      0.436111  \n",
       "std        0.934169      0.084476      0.073065      0.126444  \n",
       "min       -0.290000      0.204000      0.014000     -0.265000  \n",
       "25%        7.432000      0.290000      0.152000      0.346000  \n",
       "50%        7.992000      0.339000      0.166000      0.417000  \n",
       "75%        8.435000      0.400000      0.193000      0.501000  \n",
       "max       12.703000      1.088000      0.847000      1.035000  "
      ]
     },
     "execution_count": 7,
     "metadata": {},
     "output_type": "execute_result"
    }
   ],
   "source": [
    "gena.describe()"
   ]
  },
  {
   "cell_type": "code",
   "execution_count": 8,
   "metadata": {},
   "outputs": [
    {
     "name": "stdout",
     "output_type": "stream",
     "text": [
      "<class 'pandas.core.frame.DataFrame'>\n",
      "RangeIndex: 16682 entries, 0 to 16681\n",
      "Data columns (total 22 columns):\n",
      " #   Column   Non-Null Count  Dtype  \n",
      "---  ------   --------------  -----  \n",
      " 0   recno    16682 non-null  int64  \n",
      " 1   Name     16682 non-null  object \n",
      " 2   fb       16682 non-null  int64  \n",
      " 3   fc       16682 non-null  int64  \n",
      " 4   RAJ2000  16682 non-null  object \n",
      " 5   DEJ2000  16682 non-null  object \n",
      " 6   logTe    16394 non-null  float64\n",
      " 7   Fe/H     16394 non-null  float64\n",
      " 8   Dist     16086 non-null  float64\n",
      " 9   VMag     16086 non-null  float64\n",
      " 10  e_VMag   16086 non-null  float64\n",
      " 11  age      14351 non-null  float64\n",
      " 12  clage    13237 non-null  float64\n",
      " 13  chage    14558 non-null  float64\n",
      " 14  Rmin     13520 non-null  float64\n",
      " 15  Rmax     13520 non-null  float64\n",
      " 16  ecc      13520 non-null  float64\n",
      " 17  zmax     13520 non-null  float64\n",
      " 18  Vmag     16682 non-null  float64\n",
      " 19  b-y      16682 non-null  float64\n",
      " 20  m1       16682 non-null  float64\n",
      " 21  c1       16682 non-null  float64\n",
      "dtypes: float64(16), int64(3), object(3)\n",
      "memory usage: 2.8+ MB\n"
     ]
    }
   ],
   "source": [
    "gena.info()"
   ]
  },
  {
   "cell_type": "code",
   "execution_count": 9,
   "metadata": {
    "scrolled": true
   },
   "outputs": [
    {
     "data": {
      "text/html": [
       "<div>\n",
       "<style scoped>\n",
       "    .dataframe tbody tr th:only-of-type {\n",
       "        vertical-align: middle;\n",
       "    }\n",
       "\n",
       "    .dataframe tbody tr th {\n",
       "        vertical-align: top;\n",
       "    }\n",
       "\n",
       "    .dataframe thead th {\n",
       "        text-align: right;\n",
       "    }\n",
       "</style>\n",
       "<table border=\"1\" class=\"dataframe\">\n",
       "  <thead>\n",
       "    <tr style=\"text-align: right;\">\n",
       "      <th></th>\n",
       "      <th>recno</th>\n",
       "      <th>Name</th>\n",
       "      <th>fb</th>\n",
       "      <th>fc</th>\n",
       "      <th>RAJ2000</th>\n",
       "      <th>DEJ2000</th>\n",
       "      <th>logTe</th>\n",
       "      <th>Fe/H</th>\n",
       "      <th>Dist</th>\n",
       "      <th>VMag</th>\n",
       "      <th>...</th>\n",
       "      <th>clage</th>\n",
       "      <th>chage</th>\n",
       "      <th>Rmin</th>\n",
       "      <th>Rmax</th>\n",
       "      <th>ecc</th>\n",
       "      <th>zmax</th>\n",
       "      <th>Vmag</th>\n",
       "      <th>b-y</th>\n",
       "      <th>m1</th>\n",
       "      <th>c1</th>\n",
       "    </tr>\n",
       "  </thead>\n",
       "  <tbody>\n",
       "    <tr>\n",
       "      <th>0</th>\n",
       "      <td>1</td>\n",
       "      <td>HD 15</td>\n",
       "      <td>1</td>\n",
       "      <td>0</td>\n",
       "      <td>00 05 17.8</td>\n",
       "      <td>+48 28 37</td>\n",
       "      <td>NaN</td>\n",
       "      <td>NaN</td>\n",
       "      <td>NaN</td>\n",
       "      <td>NaN</td>\n",
       "      <td>...</td>\n",
       "      <td>NaN</td>\n",
       "      <td>NaN</td>\n",
       "      <td>NaN</td>\n",
       "      <td>NaN</td>\n",
       "      <td>NaN</td>\n",
       "      <td>NaN</td>\n",
       "      <td>8.304</td>\n",
       "      <td>0.592</td>\n",
       "      <td>0.486</td>\n",
       "      <td>0.211</td>\n",
       "    </tr>\n",
       "    <tr>\n",
       "      <th>1</th>\n",
       "      <td>2</td>\n",
       "      <td>HD 16</td>\n",
       "      <td>0</td>\n",
       "      <td>0</td>\n",
       "      <td>00 05 12.4</td>\n",
       "      <td>+36 18 13</td>\n",
       "      <td>3.803</td>\n",
       "      <td>0.10</td>\n",
       "      <td>343.0</td>\n",
       "      <td>0.42</td>\n",
       "      <td>...</td>\n",
       "      <td>0.7</td>\n",
       "      <td>0.9</td>\n",
       "      <td>6.38</td>\n",
       "      <td>8.28</td>\n",
       "      <td>0.13</td>\n",
       "      <td>0.17</td>\n",
       "      <td>8.092</td>\n",
       "      <td>0.311</td>\n",
       "      <td>0.175</td>\n",
       "      <td>0.631</td>\n",
       "    </tr>\n",
       "    <tr>\n",
       "      <th>2</th>\n",
       "      <td>3</td>\n",
       "      <td>HD 23</td>\n",
       "      <td>0</td>\n",
       "      <td>0</td>\n",
       "      <td>00 05 07.4</td>\n",
       "      <td>-52 09 06</td>\n",
       "      <td>3.776</td>\n",
       "      <td>-0.17</td>\n",
       "      <td>42.0</td>\n",
       "      <td>4.44</td>\n",
       "      <td>...</td>\n",
       "      <td>0.4</td>\n",
       "      <td>6.3</td>\n",
       "      <td>6.39</td>\n",
       "      <td>8.88</td>\n",
       "      <td>0.16</td>\n",
       "      <td>0.14</td>\n",
       "      <td>7.552</td>\n",
       "      <td>0.366</td>\n",
       "      <td>0.175</td>\n",
       "      <td>0.340</td>\n",
       "    </tr>\n",
       "    <tr>\n",
       "      <th>3</th>\n",
       "      <td>4</td>\n",
       "      <td>HD 24</td>\n",
       "      <td>1</td>\n",
       "      <td>0</td>\n",
       "      <td>00 05 09.7</td>\n",
       "      <td>-62 50 42</td>\n",
       "      <td>3.768</td>\n",
       "      <td>-0.33</td>\n",
       "      <td>69.0</td>\n",
       "      <td>3.96</td>\n",
       "      <td>...</td>\n",
       "      <td>7.7</td>\n",
       "      <td>9.8</td>\n",
       "      <td>7.75</td>\n",
       "      <td>9.11</td>\n",
       "      <td>0.08</td>\n",
       "      <td>0.36</td>\n",
       "      <td>8.146</td>\n",
       "      <td>0.377</td>\n",
       "      <td>0.168</td>\n",
       "      <td>0.313</td>\n",
       "    </tr>\n",
       "    <tr>\n",
       "      <th>4</th>\n",
       "      <td>5</td>\n",
       "      <td>HD 25</td>\n",
       "      <td>0</td>\n",
       "      <td>0</td>\n",
       "      <td>00 05 22.3</td>\n",
       "      <td>+49 46 11</td>\n",
       "      <td>3.824</td>\n",
       "      <td>-0.30</td>\n",
       "      <td>79.0</td>\n",
       "      <td>3.09</td>\n",
       "      <td>...</td>\n",
       "      <td>1.8</td>\n",
       "      <td>2.2</td>\n",
       "      <td>7.57</td>\n",
       "      <td>8.96</td>\n",
       "      <td>0.08</td>\n",
       "      <td>0.23</td>\n",
       "      <td>7.590</td>\n",
       "      <td>0.256</td>\n",
       "      <td>0.138</td>\n",
       "      <td>0.513</td>\n",
       "    </tr>\n",
       "    <tr>\n",
       "      <th>...</th>\n",
       "      <td>...</td>\n",
       "      <td>...</td>\n",
       "      <td>...</td>\n",
       "      <td>...</td>\n",
       "      <td>...</td>\n",
       "      <td>...</td>\n",
       "      <td>...</td>\n",
       "      <td>...</td>\n",
       "      <td>...</td>\n",
       "      <td>...</td>\n",
       "      <td>...</td>\n",
       "      <td>...</td>\n",
       "      <td>...</td>\n",
       "      <td>...</td>\n",
       "      <td>...</td>\n",
       "      <td>...</td>\n",
       "      <td>...</td>\n",
       "      <td>...</td>\n",
       "      <td>...</td>\n",
       "      <td>...</td>\n",
       "      <td>...</td>\n",
       "    </tr>\n",
       "    <tr>\n",
       "      <th>16677</th>\n",
       "      <td>16677</td>\n",
       "      <td>HD 293178</td>\n",
       "      <td>0</td>\n",
       "      <td>0</td>\n",
       "      <td>07 06 47.5</td>\n",
       "      <td>+00 23 20</td>\n",
       "      <td>3.801</td>\n",
       "      <td>-0.54</td>\n",
       "      <td>195.0</td>\n",
       "      <td>3.14</td>\n",
       "      <td>...</td>\n",
       "      <td>2.8</td>\n",
       "      <td>4.6</td>\n",
       "      <td>NaN</td>\n",
       "      <td>NaN</td>\n",
       "      <td>NaN</td>\n",
       "      <td>NaN</td>\n",
       "      <td>9.585</td>\n",
       "      <td>0.300</td>\n",
       "      <td>0.117</td>\n",
       "      <td>0.440</td>\n",
       "    </tr>\n",
       "    <tr>\n",
       "      <th>16678</th>\n",
       "      <td>16679</td>\n",
       "      <td>HD 311573</td>\n",
       "      <td>0</td>\n",
       "      <td>0</td>\n",
       "      <td>09 31 01.1</td>\n",
       "      <td>-73 05 18</td>\n",
       "      <td>3.792</td>\n",
       "      <td>-0.44</td>\n",
       "      <td>295.0</td>\n",
       "      <td>1.89</td>\n",
       "      <td>...</td>\n",
       "      <td>1.9</td>\n",
       "      <td>2.5</td>\n",
       "      <td>7.38</td>\n",
       "      <td>8.03</td>\n",
       "      <td>0.04</td>\n",
       "      <td>0.27</td>\n",
       "      <td>9.241</td>\n",
       "      <td>0.321</td>\n",
       "      <td>0.129</td>\n",
       "      <td>0.517</td>\n",
       "    </tr>\n",
       "    <tr>\n",
       "      <th>16679</th>\n",
       "      <td>16680</td>\n",
       "      <td>HD 321320</td>\n",
       "      <td>0</td>\n",
       "      <td>0</td>\n",
       "      <td>18 05 55.6</td>\n",
       "      <td>-36 35 58</td>\n",
       "      <td>3.729</td>\n",
       "      <td>-1.84</td>\n",
       "      <td>NaN</td>\n",
       "      <td>NaN</td>\n",
       "      <td>...</td>\n",
       "      <td>NaN</td>\n",
       "      <td>NaN</td>\n",
       "      <td>NaN</td>\n",
       "      <td>NaN</td>\n",
       "      <td>NaN</td>\n",
       "      <td>NaN</td>\n",
       "      <td>10.189</td>\n",
       "      <td>0.434</td>\n",
       "      <td>0.075</td>\n",
       "      <td>0.160</td>\n",
       "    </tr>\n",
       "    <tr>\n",
       "      <th>16680</th>\n",
       "      <td>16681</td>\n",
       "      <td>HD 349063</td>\n",
       "      <td>0</td>\n",
       "      <td>0</td>\n",
       "      <td>18 38 34.6</td>\n",
       "      <td>+20 37 37</td>\n",
       "      <td>3.748</td>\n",
       "      <td>-0.50</td>\n",
       "      <td>65.0</td>\n",
       "      <td>5.27</td>\n",
       "      <td>...</td>\n",
       "      <td>NaN</td>\n",
       "      <td>14.7</td>\n",
       "      <td>6.12</td>\n",
       "      <td>9.88</td>\n",
       "      <td>0.23</td>\n",
       "      <td>0.05</td>\n",
       "      <td>9.320</td>\n",
       "      <td>0.415</td>\n",
       "      <td>0.196</td>\n",
       "      <td>0.251</td>\n",
       "    </tr>\n",
       "    <tr>\n",
       "      <th>16681</th>\n",
       "      <td>16682</td>\n",
       "      <td>HD 353300</td>\n",
       "      <td>0</td>\n",
       "      <td>0</td>\n",
       "      <td>20 54 53.4</td>\n",
       "      <td>+17 41 30</td>\n",
       "      <td>3.767</td>\n",
       "      <td>-0.39</td>\n",
       "      <td>112.0</td>\n",
       "      <td>3.52</td>\n",
       "      <td>...</td>\n",
       "      <td>6.3</td>\n",
       "      <td>8.6</td>\n",
       "      <td>6.76</td>\n",
       "      <td>8.13</td>\n",
       "      <td>0.09</td>\n",
       "      <td>0.39</td>\n",
       "      <td>8.767</td>\n",
       "      <td>0.379</td>\n",
       "      <td>0.153</td>\n",
       "      <td>0.346</td>\n",
       "    </tr>\n",
       "  </tbody>\n",
       "</table>\n",
       "<p>16682 rows × 22 columns</p>\n",
       "</div>"
      ],
      "text/plain": [
       "       recno       Name  fb  fc     RAJ2000    DEJ2000  logTe  Fe/H   Dist  \\\n",
       "0          1      HD 15   1   0  00 05 17.8  +48 28 37    NaN   NaN    NaN   \n",
       "1          2      HD 16   0   0  00 05 12.4  +36 18 13  3.803  0.10  343.0   \n",
       "2          3      HD 23   0   0  00 05 07.4  -52 09 06  3.776 -0.17   42.0   \n",
       "3          4      HD 24   1   0  00 05 09.7  -62 50 42  3.768 -0.33   69.0   \n",
       "4          5      HD 25   0   0  00 05 22.3  +49 46 11  3.824 -0.30   79.0   \n",
       "...      ...        ...  ..  ..         ...        ...    ...   ...    ...   \n",
       "16677  16677  HD 293178   0   0  07 06 47.5  +00 23 20  3.801 -0.54  195.0   \n",
       "16678  16679  HD 311573   0   0  09 31 01.1  -73 05 18  3.792 -0.44  295.0   \n",
       "16679  16680  HD 321320   0   0  18 05 55.6  -36 35 58  3.729 -1.84    NaN   \n",
       "16680  16681  HD 349063   0   0  18 38 34.6  +20 37 37  3.748 -0.50   65.0   \n",
       "16681  16682  HD 353300   0   0  20 54 53.4  +17 41 30  3.767 -0.39  112.0   \n",
       "\n",
       "       VMag  ...  clage  chage  Rmin  Rmax   ecc  zmax    Vmag    b-y     m1  \\\n",
       "0       NaN  ...    NaN    NaN   NaN   NaN   NaN   NaN   8.304  0.592  0.486   \n",
       "1      0.42  ...    0.7    0.9  6.38  8.28  0.13  0.17   8.092  0.311  0.175   \n",
       "2      4.44  ...    0.4    6.3  6.39  8.88  0.16  0.14   7.552  0.366  0.175   \n",
       "3      3.96  ...    7.7    9.8  7.75  9.11  0.08  0.36   8.146  0.377  0.168   \n",
       "4      3.09  ...    1.8    2.2  7.57  8.96  0.08  0.23   7.590  0.256  0.138   \n",
       "...     ...  ...    ...    ...   ...   ...   ...   ...     ...    ...    ...   \n",
       "16677  3.14  ...    2.8    4.6   NaN   NaN   NaN   NaN   9.585  0.300  0.117   \n",
       "16678  1.89  ...    1.9    2.5  7.38  8.03  0.04  0.27   9.241  0.321  0.129   \n",
       "16679   NaN  ...    NaN    NaN   NaN   NaN   NaN   NaN  10.189  0.434  0.075   \n",
       "16680  5.27  ...    NaN   14.7  6.12  9.88  0.23  0.05   9.320  0.415  0.196   \n",
       "16681  3.52  ...    6.3    8.6  6.76  8.13  0.09  0.39   8.767  0.379  0.153   \n",
       "\n",
       "          c1  \n",
       "0      0.211  \n",
       "1      0.631  \n",
       "2      0.340  \n",
       "3      0.313  \n",
       "4      0.513  \n",
       "...      ...  \n",
       "16677  0.440  \n",
       "16678  0.517  \n",
       "16679  0.160  \n",
       "16680  0.251  \n",
       "16681  0.346  \n",
       "\n",
       "[16682 rows x 22 columns]"
      ]
     },
     "execution_count": 9,
     "metadata": {},
     "output_type": "execute_result"
    }
   ],
   "source": [
    "gena"
   ]
  },
  {
   "cell_type": "code",
   "execution_count": 10,
   "metadata": {},
   "outputs": [
    {
     "data": {
      "text/plain": [
       "3.7"
      ]
     },
     "execution_count": 10,
     "metadata": {},
     "output_type": "execute_result"
    }
   ],
   "source": [
    "gena['age'][2]"
   ]
  },
  {
   "cell_type": "code",
   "execution_count": 11,
   "metadata": {},
   "outputs": [],
   "source": [
    "gena=gena.dropna(subset=['logTe','Dist', 'age', 'VMag' ])\n"
   ]
  },
  {
   "cell_type": "code",
   "execution_count": 12,
   "metadata": {
    "scrolled": true
   },
   "outputs": [
    {
     "data": {
      "text/html": [
       "<div>\n",
       "<style scoped>\n",
       "    .dataframe tbody tr th:only-of-type {\n",
       "        vertical-align: middle;\n",
       "    }\n",
       "\n",
       "    .dataframe tbody tr th {\n",
       "        vertical-align: top;\n",
       "    }\n",
       "\n",
       "    .dataframe thead th {\n",
       "        text-align: right;\n",
       "    }\n",
       "</style>\n",
       "<table border=\"1\" class=\"dataframe\">\n",
       "  <thead>\n",
       "    <tr style=\"text-align: right;\">\n",
       "      <th></th>\n",
       "      <th>recno</th>\n",
       "      <th>Name</th>\n",
       "      <th>fb</th>\n",
       "      <th>fc</th>\n",
       "      <th>RAJ2000</th>\n",
       "      <th>DEJ2000</th>\n",
       "      <th>logTe</th>\n",
       "      <th>Fe/H</th>\n",
       "      <th>Dist</th>\n",
       "      <th>VMag</th>\n",
       "      <th>...</th>\n",
       "      <th>clage</th>\n",
       "      <th>chage</th>\n",
       "      <th>Rmin</th>\n",
       "      <th>Rmax</th>\n",
       "      <th>ecc</th>\n",
       "      <th>zmax</th>\n",
       "      <th>Vmag</th>\n",
       "      <th>b-y</th>\n",
       "      <th>m1</th>\n",
       "      <th>c1</th>\n",
       "    </tr>\n",
       "  </thead>\n",
       "  <tbody>\n",
       "    <tr>\n",
       "      <th>1</th>\n",
       "      <td>2</td>\n",
       "      <td>HD 16</td>\n",
       "      <td>0</td>\n",
       "      <td>0</td>\n",
       "      <td>00 05 12.4</td>\n",
       "      <td>+36 18 13</td>\n",
       "      <td>3.803</td>\n",
       "      <td>0.10</td>\n",
       "      <td>343.0</td>\n",
       "      <td>0.42</td>\n",
       "      <td>...</td>\n",
       "      <td>0.7</td>\n",
       "      <td>0.9</td>\n",
       "      <td>6.38</td>\n",
       "      <td>8.28</td>\n",
       "      <td>0.13</td>\n",
       "      <td>0.17</td>\n",
       "      <td>8.092</td>\n",
       "      <td>0.311</td>\n",
       "      <td>0.175</td>\n",
       "      <td>0.631</td>\n",
       "    </tr>\n",
       "    <tr>\n",
       "      <th>2</th>\n",
       "      <td>3</td>\n",
       "      <td>HD 23</td>\n",
       "      <td>0</td>\n",
       "      <td>0</td>\n",
       "      <td>00 05 07.4</td>\n",
       "      <td>-52 09 06</td>\n",
       "      <td>3.776</td>\n",
       "      <td>-0.17</td>\n",
       "      <td>42.0</td>\n",
       "      <td>4.44</td>\n",
       "      <td>...</td>\n",
       "      <td>0.4</td>\n",
       "      <td>6.3</td>\n",
       "      <td>6.39</td>\n",
       "      <td>8.88</td>\n",
       "      <td>0.16</td>\n",
       "      <td>0.14</td>\n",
       "      <td>7.552</td>\n",
       "      <td>0.366</td>\n",
       "      <td>0.175</td>\n",
       "      <td>0.340</td>\n",
       "    </tr>\n",
       "    <tr>\n",
       "      <th>3</th>\n",
       "      <td>4</td>\n",
       "      <td>HD 24</td>\n",
       "      <td>1</td>\n",
       "      <td>0</td>\n",
       "      <td>00 05 09.7</td>\n",
       "      <td>-62 50 42</td>\n",
       "      <td>3.768</td>\n",
       "      <td>-0.33</td>\n",
       "      <td>69.0</td>\n",
       "      <td>3.96</td>\n",
       "      <td>...</td>\n",
       "      <td>7.7</td>\n",
       "      <td>9.8</td>\n",
       "      <td>7.75</td>\n",
       "      <td>9.11</td>\n",
       "      <td>0.08</td>\n",
       "      <td>0.36</td>\n",
       "      <td>8.146</td>\n",
       "      <td>0.377</td>\n",
       "      <td>0.168</td>\n",
       "      <td>0.313</td>\n",
       "    </tr>\n",
       "    <tr>\n",
       "      <th>4</th>\n",
       "      <td>5</td>\n",
       "      <td>HD 25</td>\n",
       "      <td>0</td>\n",
       "      <td>0</td>\n",
       "      <td>00 05 22.3</td>\n",
       "      <td>+49 46 11</td>\n",
       "      <td>3.824</td>\n",
       "      <td>-0.30</td>\n",
       "      <td>79.0</td>\n",
       "      <td>3.09</td>\n",
       "      <td>...</td>\n",
       "      <td>1.8</td>\n",
       "      <td>2.2</td>\n",
       "      <td>7.57</td>\n",
       "      <td>8.96</td>\n",
       "      <td>0.08</td>\n",
       "      <td>0.23</td>\n",
       "      <td>7.590</td>\n",
       "      <td>0.256</td>\n",
       "      <td>0.138</td>\n",
       "      <td>0.513</td>\n",
       "    </tr>\n",
       "    <tr>\n",
       "      <th>6</th>\n",
       "      <td>7</td>\n",
       "      <td>HD 39</td>\n",
       "      <td>1</td>\n",
       "      <td>0</td>\n",
       "      <td>00 05 29.0</td>\n",
       "      <td>+34 06 20</td>\n",
       "      <td>3.785</td>\n",
       "      <td>-0.40</td>\n",
       "      <td>97.0</td>\n",
       "      <td>2.92</td>\n",
       "      <td>...</td>\n",
       "      <td>3.6</td>\n",
       "      <td>4.6</td>\n",
       "      <td>7.26</td>\n",
       "      <td>8.40</td>\n",
       "      <td>0.07</td>\n",
       "      <td>0.56</td>\n",
       "      <td>7.852</td>\n",
       "      <td>0.337</td>\n",
       "      <td>0.133</td>\n",
       "      <td>0.411</td>\n",
       "    </tr>\n",
       "    <tr>\n",
       "      <th>...</th>\n",
       "      <td>...</td>\n",
       "      <td>...</td>\n",
       "      <td>...</td>\n",
       "      <td>...</td>\n",
       "      <td>...</td>\n",
       "      <td>...</td>\n",
       "      <td>...</td>\n",
       "      <td>...</td>\n",
       "      <td>...</td>\n",
       "      <td>...</td>\n",
       "      <td>...</td>\n",
       "      <td>...</td>\n",
       "      <td>...</td>\n",
       "      <td>...</td>\n",
       "      <td>...</td>\n",
       "      <td>...</td>\n",
       "      <td>...</td>\n",
       "      <td>...</td>\n",
       "      <td>...</td>\n",
       "      <td>...</td>\n",
       "      <td>...</td>\n",
       "    </tr>\n",
       "    <tr>\n",
       "      <th>16657</th>\n",
       "      <td>16657</td>\n",
       "      <td>HD 240051</td>\n",
       "      <td>0</td>\n",
       "      <td>0</td>\n",
       "      <td>22 46 08.7</td>\n",
       "      <td>+58 04 05</td>\n",
       "      <td>3.755</td>\n",
       "      <td>-0.23</td>\n",
       "      <td>65.0</td>\n",
       "      <td>4.56</td>\n",
       "      <td>...</td>\n",
       "      <td>8.0</td>\n",
       "      <td>13.7</td>\n",
       "      <td>NaN</td>\n",
       "      <td>NaN</td>\n",
       "      <td>NaN</td>\n",
       "      <td>NaN</td>\n",
       "      <td>8.634</td>\n",
       "      <td>0.409</td>\n",
       "      <td>0.190</td>\n",
       "      <td>0.335</td>\n",
       "    </tr>\n",
       "    <tr>\n",
       "      <th>16664</th>\n",
       "      <td>16664</td>\n",
       "      <td>HD 285571</td>\n",
       "      <td>0</td>\n",
       "      <td>1</td>\n",
       "      <td>04 13 10.9</td>\n",
       "      <td>+16 46 00</td>\n",
       "      <td>3.751</td>\n",
       "      <td>-0.21</td>\n",
       "      <td>70.0</td>\n",
       "      <td>4.93</td>\n",
       "      <td>...</td>\n",
       "      <td>NaN</td>\n",
       "      <td>14.6</td>\n",
       "      <td>6.01</td>\n",
       "      <td>8.06</td>\n",
       "      <td>0.15</td>\n",
       "      <td>0.62</td>\n",
       "      <td>9.148</td>\n",
       "      <td>0.417</td>\n",
       "      <td>0.209</td>\n",
       "      <td>0.312</td>\n",
       "    </tr>\n",
       "    <tr>\n",
       "      <th>16677</th>\n",
       "      <td>16677</td>\n",
       "      <td>HD 293178</td>\n",
       "      <td>0</td>\n",
       "      <td>0</td>\n",
       "      <td>07 06 47.5</td>\n",
       "      <td>+00 23 20</td>\n",
       "      <td>3.801</td>\n",
       "      <td>-0.54</td>\n",
       "      <td>195.0</td>\n",
       "      <td>3.14</td>\n",
       "      <td>...</td>\n",
       "      <td>2.8</td>\n",
       "      <td>4.6</td>\n",
       "      <td>NaN</td>\n",
       "      <td>NaN</td>\n",
       "      <td>NaN</td>\n",
       "      <td>NaN</td>\n",
       "      <td>9.585</td>\n",
       "      <td>0.300</td>\n",
       "      <td>0.117</td>\n",
       "      <td>0.440</td>\n",
       "    </tr>\n",
       "    <tr>\n",
       "      <th>16678</th>\n",
       "      <td>16679</td>\n",
       "      <td>HD 311573</td>\n",
       "      <td>0</td>\n",
       "      <td>0</td>\n",
       "      <td>09 31 01.1</td>\n",
       "      <td>-73 05 18</td>\n",
       "      <td>3.792</td>\n",
       "      <td>-0.44</td>\n",
       "      <td>295.0</td>\n",
       "      <td>1.89</td>\n",
       "      <td>...</td>\n",
       "      <td>1.9</td>\n",
       "      <td>2.5</td>\n",
       "      <td>7.38</td>\n",
       "      <td>8.03</td>\n",
       "      <td>0.04</td>\n",
       "      <td>0.27</td>\n",
       "      <td>9.241</td>\n",
       "      <td>0.321</td>\n",
       "      <td>0.129</td>\n",
       "      <td>0.517</td>\n",
       "    </tr>\n",
       "    <tr>\n",
       "      <th>16681</th>\n",
       "      <td>16682</td>\n",
       "      <td>HD 353300</td>\n",
       "      <td>0</td>\n",
       "      <td>0</td>\n",
       "      <td>20 54 53.4</td>\n",
       "      <td>+17 41 30</td>\n",
       "      <td>3.767</td>\n",
       "      <td>-0.39</td>\n",
       "      <td>112.0</td>\n",
       "      <td>3.52</td>\n",
       "      <td>...</td>\n",
       "      <td>6.3</td>\n",
       "      <td>8.6</td>\n",
       "      <td>6.76</td>\n",
       "      <td>8.13</td>\n",
       "      <td>0.09</td>\n",
       "      <td>0.39</td>\n",
       "      <td>8.767</td>\n",
       "      <td>0.379</td>\n",
       "      <td>0.153</td>\n",
       "      <td>0.346</td>\n",
       "    </tr>\n",
       "  </tbody>\n",
       "</table>\n",
       "<p>14351 rows × 22 columns</p>\n",
       "</div>"
      ],
      "text/plain": [
       "       recno       Name  fb  fc     RAJ2000    DEJ2000  logTe  Fe/H   Dist  \\\n",
       "1          2      HD 16   0   0  00 05 12.4  +36 18 13  3.803  0.10  343.0   \n",
       "2          3      HD 23   0   0  00 05 07.4  -52 09 06  3.776 -0.17   42.0   \n",
       "3          4      HD 24   1   0  00 05 09.7  -62 50 42  3.768 -0.33   69.0   \n",
       "4          5      HD 25   0   0  00 05 22.3  +49 46 11  3.824 -0.30   79.0   \n",
       "6          7      HD 39   1   0  00 05 29.0  +34 06 20  3.785 -0.40   97.0   \n",
       "...      ...        ...  ..  ..         ...        ...    ...   ...    ...   \n",
       "16657  16657  HD 240051   0   0  22 46 08.7  +58 04 05  3.755 -0.23   65.0   \n",
       "16664  16664  HD 285571   0   1  04 13 10.9  +16 46 00  3.751 -0.21   70.0   \n",
       "16677  16677  HD 293178   0   0  07 06 47.5  +00 23 20  3.801 -0.54  195.0   \n",
       "16678  16679  HD 311573   0   0  09 31 01.1  -73 05 18  3.792 -0.44  295.0   \n",
       "16681  16682  HD 353300   0   0  20 54 53.4  +17 41 30  3.767 -0.39  112.0   \n",
       "\n",
       "       VMag  ...  clage  chage  Rmin  Rmax   ecc  zmax   Vmag    b-y     m1  \\\n",
       "1      0.42  ...    0.7    0.9  6.38  8.28  0.13  0.17  8.092  0.311  0.175   \n",
       "2      4.44  ...    0.4    6.3  6.39  8.88  0.16  0.14  7.552  0.366  0.175   \n",
       "3      3.96  ...    7.7    9.8  7.75  9.11  0.08  0.36  8.146  0.377  0.168   \n",
       "4      3.09  ...    1.8    2.2  7.57  8.96  0.08  0.23  7.590  0.256  0.138   \n",
       "6      2.92  ...    3.6    4.6  7.26  8.40  0.07  0.56  7.852  0.337  0.133   \n",
       "...     ...  ...    ...    ...   ...   ...   ...   ...    ...    ...    ...   \n",
       "16657  4.56  ...    8.0   13.7   NaN   NaN   NaN   NaN  8.634  0.409  0.190   \n",
       "16664  4.93  ...    NaN   14.6  6.01  8.06  0.15  0.62  9.148  0.417  0.209   \n",
       "16677  3.14  ...    2.8    4.6   NaN   NaN   NaN   NaN  9.585  0.300  0.117   \n",
       "16678  1.89  ...    1.9    2.5  7.38  8.03  0.04  0.27  9.241  0.321  0.129   \n",
       "16681  3.52  ...    6.3    8.6  6.76  8.13  0.09  0.39  8.767  0.379  0.153   \n",
       "\n",
       "          c1  \n",
       "1      0.631  \n",
       "2      0.340  \n",
       "3      0.313  \n",
       "4      0.513  \n",
       "6      0.411  \n",
       "...      ...  \n",
       "16657  0.335  \n",
       "16664  0.312  \n",
       "16677  0.440  \n",
       "16678  0.517  \n",
       "16681  0.346  \n",
       "\n",
       "[14351 rows x 22 columns]"
      ]
     },
     "execution_count": 12,
     "metadata": {},
     "output_type": "execute_result"
    }
   ],
   "source": [
    "gena"
   ]
  },
  {
   "cell_type": "code",
   "execution_count": 13,
   "metadata": {},
   "outputs": [],
   "source": [
    "m1=gena['m1'][1]\n",
    "c1=gena['c1'][1]\n",
    "by=gena['b-y'][1]\n",
    "c3=.45-(3.98*by)+(5.08*by**2.)"
   ]
  },
  {
   "cell_type": "code",
   "execution_count": 14,
   "metadata": {},
   "outputs": [
    {
     "data": {
      "text/plain": [
       "0.1"
      ]
     },
     "execution_count": 14,
     "metadata": {},
     "output_type": "execute_result"
    }
   ],
   "source": [
    "gena['Fe/H'][1]"
   ]
  },
  {
   "cell_type": "code",
   "execution_count": 15,
   "metadata": {},
   "outputs": [],
   "source": [
    "ff=9.6-(61.16*m1)+(81.25*m1*by)+(224.65*m1**2.*by)-(153.18*m1*by**2.)+((12.23-(90.23*m1)+(3870*by))*np.log(m1-c3))"
   ]
  },
  {
   "cell_type": "code",
   "execution_count": 16,
   "metadata": {},
   "outputs": [
    {
     "data": {
      "text/plain": [
       "-899.5043489068743"
      ]
     },
     "execution_count": 16,
     "metadata": {},
     "output_type": "execute_result"
    }
   ],
   "source": [
    "ff"
   ]
  },
  {
   "cell_type": "code",
   "execution_count": 17,
   "metadata": {},
   "outputs": [
    {
     "data": {
      "text/html": [
       "<div>\n",
       "<style scoped>\n",
       "    .dataframe tbody tr th:only-of-type {\n",
       "        vertical-align: middle;\n",
       "    }\n",
       "\n",
       "    .dataframe tbody tr th {\n",
       "        vertical-align: top;\n",
       "    }\n",
       "\n",
       "    .dataframe thead th {\n",
       "        text-align: right;\n",
       "    }\n",
       "</style>\n",
       "<table border=\"1\" class=\"dataframe\">\n",
       "  <thead>\n",
       "    <tr style=\"text-align: right;\">\n",
       "      <th></th>\n",
       "      <th>recno</th>\n",
       "      <th>Name</th>\n",
       "      <th>mratio</th>\n",
       "      <th>e_mratio</th>\n",
       "    </tr>\n",
       "  </thead>\n",
       "  <tbody>\n",
       "    <tr>\n",
       "      <th>0</th>\n",
       "      <td>1</td>\n",
       "      <td>HD 24</td>\n",
       "      <td>0.962</td>\n",
       "      <td>0.007</td>\n",
       "    </tr>\n",
       "    <tr>\n",
       "      <th>1</th>\n",
       "      <td>2</td>\n",
       "      <td>HD 483</td>\n",
       "      <td>0.995</td>\n",
       "      <td>0.002</td>\n",
       "    </tr>\n",
       "    <tr>\n",
       "      <th>2</th>\n",
       "      <td>3</td>\n",
       "      <td>HD 1854</td>\n",
       "      <td>1.865</td>\n",
       "      <td>NaN</td>\n",
       "    </tr>\n",
       "    <tr>\n",
       "      <th>3</th>\n",
       "      <td>4</td>\n",
       "      <td>HD 2475</td>\n",
       "      <td>0.940</td>\n",
       "      <td>0.050</td>\n",
       "    </tr>\n",
       "    <tr>\n",
       "      <th>4</th>\n",
       "      <td>5</td>\n",
       "      <td>HD 3405</td>\n",
       "      <td>0.940</td>\n",
       "      <td>0.010</td>\n",
       "    </tr>\n",
       "    <tr>\n",
       "      <th>...</th>\n",
       "      <td>...</td>\n",
       "      <td>...</td>\n",
       "      <td>...</td>\n",
       "      <td>...</td>\n",
       "    </tr>\n",
       "    <tr>\n",
       "      <th>505</th>\n",
       "      <td>506</td>\n",
       "      <td>HD 223537</td>\n",
       "      <td>0.946</td>\n",
       "      <td>0.011</td>\n",
       "    </tr>\n",
       "    <tr>\n",
       "      <th>506</th>\n",
       "      <td>507</td>\n",
       "      <td>HD 223778</td>\n",
       "      <td>0.955</td>\n",
       "      <td>0.006</td>\n",
       "    </tr>\n",
       "    <tr>\n",
       "      <th>507</th>\n",
       "      <td>508</td>\n",
       "      <td>HD 224355</td>\n",
       "      <td>0.994</td>\n",
       "      <td>NaN</td>\n",
       "    </tr>\n",
       "    <tr>\n",
       "      <th>508</th>\n",
       "      <td>509</td>\n",
       "      <td>HD 224410</td>\n",
       "      <td>0.784</td>\n",
       "      <td>NaN</td>\n",
       "    </tr>\n",
       "    <tr>\n",
       "      <th>509</th>\n",
       "      <td>510</td>\n",
       "      <td>HD 224974</td>\n",
       "      <td>1.000</td>\n",
       "      <td>0.011</td>\n",
       "    </tr>\n",
       "  </tbody>\n",
       "</table>\n",
       "<p>510 rows × 4 columns</p>\n",
       "</div>"
      ],
      "text/plain": [
       "     recno       Name  mratio  e_mratio\n",
       "0        1      HD 24   0.962     0.007\n",
       "1        2     HD 483   0.995     0.002\n",
       "2        3    HD 1854   1.865       NaN\n",
       "3        4    HD 2475   0.940     0.050\n",
       "4        5    HD 3405   0.940     0.010\n",
       "..     ...        ...     ...       ...\n",
       "505    506  HD 223537   0.946     0.011\n",
       "506    507  HD 223778   0.955     0.006\n",
       "507    508  HD 224355   0.994       NaN\n",
       "508    509  HD 224410   0.784       NaN\n",
       "509    510  HD 224974   1.000     0.011\n",
       "\n",
       "[510 rows x 4 columns]"
      ]
     },
     "execution_count": 17,
     "metadata": {},
     "output_type": "execute_result"
    }
   ],
   "source": [
    "mratio"
   ]
  },
  {
   "cell_type": "code",
   "execution_count": 18,
   "metadata": {},
   "outputs": [],
   "source": [
    "#joining genacop and mratio on Name\n",
    "#gena_join=pd.merge(gena, mratio, how='outer', left_on='Name', right_on='Name')"
   ]
  },
  {
   "cell_type": "code",
   "execution_count": 19,
   "metadata": {
    "scrolled": true
   },
   "outputs": [],
   "source": [
    "#gena_join"
   ]
  },
  {
   "cell_type": "code",
   "execution_count": 20,
   "metadata": {},
   "outputs": [],
   "source": [
    "#dropped column recno_y\n",
    "#gena_join=gena_join.drop(columns='recno_y')"
   ]
  },
  {
   "cell_type": "code",
   "execution_count": 21,
   "metadata": {},
   "outputs": [],
   "source": [
    "#gena_join"
   ]
  },
  {
   "cell_type": "code",
   "execution_count": 22,
   "metadata": {},
   "outputs": [],
   "source": [
    "#finding luminosity, M is aBSOLUTE MAGNITUDEFOR THIS CELL\n",
    "#M-M_solar=-2.5log(L/L_solar)\n",
    "#log(L/L_solar)=(((M-M_solar)/(-2.5))), M_solar=4.74\n",
    "log_L_div_Ls=(((gena['VMag']-4.74)/(-2.5)))\n",
    "L_div_Ls=10**(((gena['VMag']-4.74)/(-2.5))) \n",
    "\n",
    "#lumin of sun is 3.83 × 10**33 ergs per second)\n",
    "L=L_div_Ls*(3.83 * 10**(33.))#this is like L/L_solar-->L=[10**(((gena['VMag']-4.74)/(-2.5)))] L_solar"
   ]
  },
  {
   "cell_type": "code",
   "execution_count": 23,
   "metadata": {},
   "outputs": [
    {
     "data": {
      "text/plain": [
       "1        1.728\n",
       "2        0.120\n",
       "3        0.312\n",
       "4        0.660\n",
       "6        0.728\n",
       "         ...  \n",
       "16657    0.072\n",
       "16664   -0.076\n",
       "16677    0.640\n",
       "16678    1.140\n",
       "16681    0.488\n",
       "Name: VMag, Length: 14351, dtype: float64"
      ]
     },
     "execution_count": 23,
     "metadata": {},
     "output_type": "execute_result"
    }
   ],
   "source": [
    "log_L_div_Ls"
   ]
  },
  {
   "cell_type": "code",
   "execution_count": 24,
   "metadata": {},
   "outputs": [
    {
     "name": "stderr",
     "output_type": "stream",
     "text": [
      "C:\\ProgramData\\Anaconda2\\envs\\py36\\lib\\site-packages\\ipykernel_launcher.py:1: SettingWithCopyWarning: \n",
      "A value is trying to be set on a copy of a slice from a DataFrame.\n",
      "Try using .loc[row_indexer,col_indexer] = value instead\n",
      "\n",
      "See the caveats in the documentation: https://pandas.pydata.org/pandas-docs/stable/user_guide/indexing.html#returning-a-view-versus-a-copy\n",
      "  \"\"\"Entry point for launching an IPython kernel.\n"
     ]
    }
   ],
   "source": [
    "gena['log(L/L_s)']=log_L_div_Ls"
   ]
  },
  {
   "cell_type": "code",
   "execution_count": 25,
   "metadata": {},
   "outputs": [
    {
     "data": {
      "text/plain": [
       "1        53.456436\n",
       "2         1.318257\n",
       "3         2.051162\n",
       "4         4.570882\n",
       "6         5.345644\n",
       "           ...    \n",
       "16657     1.180321\n",
       "16664     0.839460\n",
       "16677     4.365158\n",
       "16678    13.803843\n",
       "16681     3.076097\n",
       "Name: VMag, Length: 14351, dtype: float64"
      ]
     },
     "execution_count": 25,
     "metadata": {},
     "output_type": "execute_result"
    }
   ],
   "source": [
    "L_div_Ls"
   ]
  },
  {
   "cell_type": "code",
   "execution_count": 26,
   "metadata": {},
   "outputs": [
    {
     "name": "stderr",
     "output_type": "stream",
     "text": [
      "C:\\ProgramData\\Anaconda2\\envs\\py36\\lib\\site-packages\\ipykernel_launcher.py:1: SettingWithCopyWarning: \n",
      "A value is trying to be set on a copy of a slice from a DataFrame.\n",
      "Try using .loc[row_indexer,col_indexer] = value instead\n",
      "\n",
      "See the caveats in the documentation: https://pandas.pydata.org/pandas-docs/stable/user_guide/indexing.html#returning-a-view-versus-a-copy\n",
      "  \"\"\"Entry point for launching an IPython kernel.\n"
     ]
    }
   ],
   "source": [
    "gena['L_div_Ls']=L_div_Ls"
   ]
  },
  {
   "cell_type": "code",
   "execution_count": 27,
   "metadata": {},
   "outputs": [
    {
     "data": {
      "text/plain": [
       "1        2.047381e+35\n",
       "2        5.048923e+33\n",
       "3        7.855951e+33\n",
       "4        1.750648e+34\n",
       "6        2.047381e+34\n",
       "             ...     \n",
       "16657    4.520628e+33\n",
       "16664    3.215132e+33\n",
       "16677    1.671856e+34\n",
       "16678    5.286872e+34\n",
       "16681    1.178145e+34\n",
       "Name: VMag, Length: 14351, dtype: float64"
      ]
     },
     "execution_count": 27,
     "metadata": {},
     "output_type": "execute_result"
    }
   ],
   "source": [
    "L"
   ]
  },
  {
   "cell_type": "code",
   "execution_count": 28,
   "metadata": {},
   "outputs": [
    {
     "name": "stderr",
     "output_type": "stream",
     "text": [
      "C:\\ProgramData\\Anaconda2\\envs\\py36\\lib\\site-packages\\ipykernel_launcher.py:1: SettingWithCopyWarning: \n",
      "A value is trying to be set on a copy of a slice from a DataFrame.\n",
      "Try using .loc[row_indexer,col_indexer] = value instead\n",
      "\n",
      "See the caveats in the documentation: https://pandas.pydata.org/pandas-docs/stable/user_guide/indexing.html#returning-a-view-versus-a-copy\n",
      "  \"\"\"Entry point for launching an IPython kernel.\n"
     ]
    }
   ],
   "source": [
    "gena['L']=L"
   ]
  },
  {
   "cell_type": "code",
   "execution_count": 29,
   "metadata": {},
   "outputs": [],
   "source": [
    "# logging the Te\n",
    "Te=10**gena['logTe']"
   ]
  },
  {
   "cell_type": "code",
   "execution_count": 30,
   "metadata": {},
   "outputs": [
    {
     "name": "stderr",
     "output_type": "stream",
     "text": [
      "C:\\ProgramData\\Anaconda2\\envs\\py36\\lib\\site-packages\\ipykernel_launcher.py:1: SettingWithCopyWarning: \n",
      "A value is trying to be set on a copy of a slice from a DataFrame.\n",
      "Try using .loc[row_indexer,col_indexer] = value instead\n",
      "\n",
      "See the caveats in the documentation: https://pandas.pydata.org/pandas-docs/stable/user_guide/indexing.html#returning-a-view-versus-a-copy\n",
      "  \"\"\"Entry point for launching an IPython kernel.\n"
     ]
    }
   ],
   "source": [
    "gena['Te']=Te"
   ]
  },
  {
   "cell_type": "code",
   "execution_count": 31,
   "metadata": {},
   "outputs": [],
   "source": [
    "#finding radius R, sigma= 5.670374*10**−5 erg⋅cm−2⋅s−1⋅K−4., T_solar=5780, radius_solar=6.957*10**10 cm\n",
    "#L=4*pi*(R**2)*sigma*T**4 \n",
    "R=((4*(5.670374*10**(-5))*np.pi*Te**4)**(-.5))*(L)**(.5)\n",
    "R_Rs=R/(6.957*10**10.) #doing this will take R_solar out of R(value) to make it R=R(value)*R_solar"
   ]
  },
  {
   "cell_type": "code",
   "execution_count": 32,
   "metadata": {},
   "outputs": [
    {
     "data": {
      "text/plain": [
       "1        4.199413e+11\n",
       "2        7.467730e+10\n",
       "3        9.664705e+10\n",
       "4        1.114779e+11\n",
       "6        1.442742e+11\n",
       "             ...     \n",
       "16657    7.783745e+10\n",
       "16664    6.686342e+10\n",
       "16677    1.211124e+11\n",
       "16678    2.244857e+11\n",
       "16681    1.189018e+11\n",
       "Length: 14351, dtype: float64"
      ]
     },
     "execution_count": 32,
     "metadata": {},
     "output_type": "execute_result"
    }
   ],
   "source": [
    "R"
   ]
  },
  {
   "cell_type": "code",
   "execution_count": 33,
   "metadata": {},
   "outputs": [
    {
     "data": {
      "text/plain": [
       "1        6.036241\n",
       "2        1.073412\n",
       "3        1.389206\n",
       "4        1.602384\n",
       "6        2.073799\n",
       "           ...   \n",
       "16657    1.118836\n",
       "16664    0.961096\n",
       "16677    1.740871\n",
       "16678    3.226760\n",
       "16681    1.709097\n",
       "Length: 14351, dtype: float64"
      ]
     },
     "execution_count": 33,
     "metadata": {},
     "output_type": "execute_result"
    }
   ],
   "source": [
    "R_Rs"
   ]
  },
  {
   "cell_type": "code",
   "execution_count": 34,
   "metadata": {},
   "outputs": [
    {
     "name": "stderr",
     "output_type": "stream",
     "text": [
      "C:\\ProgramData\\Anaconda2\\envs\\py36\\lib\\site-packages\\ipykernel_launcher.py:1: SettingWithCopyWarning: \n",
      "A value is trying to be set on a copy of a slice from a DataFrame.\n",
      "Try using .loc[row_indexer,col_indexer] = value instead\n",
      "\n",
      "See the caveats in the documentation: https://pandas.pydata.org/pandas-docs/stable/user_guide/indexing.html#returning-a-view-versus-a-copy\n",
      "  \"\"\"Entry point for launching an IPython kernel.\n",
      "C:\\ProgramData\\Anaconda2\\envs\\py36\\lib\\site-packages\\ipykernel_launcher.py:2: SettingWithCopyWarning: \n",
      "A value is trying to be set on a copy of a slice from a DataFrame.\n",
      "Try using .loc[row_indexer,col_indexer] = value instead\n",
      "\n",
      "See the caveats in the documentation: https://pandas.pydata.org/pandas-docs/stable/user_guide/indexing.html#returning-a-view-versus-a-copy\n",
      "  \n"
     ]
    }
   ],
   "source": [
    "gena['R']=R\n",
    "gena['R_Rs']=R_Rs"
   ]
  },
  {
   "cell_type": "code",
   "execution_count": 35,
   "metadata": {},
   "outputs": [],
   "source": [
    "R_from_L_R_inv=(6.957*10**(10.))*(L_div_Ls)**(.5)"
   ]
  },
  {
   "cell_type": "code",
   "execution_count": 36,
   "metadata": {},
   "outputs": [
    {
     "data": {
      "text/plain": [
       "1        5.086535e+11\n",
       "2        7.987705e+10\n",
       "3        9.963731e+10\n",
       "4        1.487380e+11\n",
       "6        1.608503e+11\n",
       "             ...     \n",
       "16657    7.558263e+10\n",
       "16664    6.374146e+10\n",
       "16677    1.453523e+11\n",
       "16678    2.584771e+11\n",
       "16681    1.220175e+11\n",
       "Name: VMag, Length: 14351, dtype: float64"
      ]
     },
     "execution_count": 36,
     "metadata": {},
     "output_type": "execute_result"
    }
   ],
   "source": [
    "R_from_L_R_inv"
   ]
  },
  {
   "cell_type": "code",
   "execution_count": null,
   "metadata": {},
   "outputs": [],
   "source": []
  },
  {
   "cell_type": "code",
   "execution_count": 37,
   "metadata": {},
   "outputs": [],
   "source": [
    "#finding v-b\n",
    "vb=gena['m1']+gena['b-y']"
   ]
  },
  {
   "cell_type": "code",
   "execution_count": 38,
   "metadata": {},
   "outputs": [
    {
     "data": {
      "text/plain": [
       "1        0.486\n",
       "2        0.541\n",
       "3        0.545\n",
       "4        0.394\n",
       "6        0.470\n",
       "         ...  \n",
       "16657    0.599\n",
       "16664    0.626\n",
       "16677    0.417\n",
       "16678    0.450\n",
       "16681    0.532\n",
       "Length: 14351, dtype: float64"
      ]
     },
     "execution_count": 38,
     "metadata": {},
     "output_type": "execute_result"
    }
   ],
   "source": [
    "vb"
   ]
  },
  {
   "cell_type": "code",
   "execution_count": 39,
   "metadata": {},
   "outputs": [
    {
     "name": "stderr",
     "output_type": "stream",
     "text": [
      "C:\\ProgramData\\Anaconda2\\envs\\py36\\lib\\site-packages\\ipykernel_launcher.py:1: SettingWithCopyWarning: \n",
      "A value is trying to be set on a copy of a slice from a DataFrame.\n",
      "Try using .loc[row_indexer,col_indexer] = value instead\n",
      "\n",
      "See the caveats in the documentation: https://pandas.pydata.org/pandas-docs/stable/user_guide/indexing.html#returning-a-view-versus-a-copy\n",
      "  \"\"\"Entry point for launching an IPython kernel.\n"
     ]
    }
   ],
   "source": [
    "gena['v-b']=vb"
   ]
  },
  {
   "cell_type": "code",
   "execution_count": 40,
   "metadata": {},
   "outputs": [],
   "source": [
    "#if stars are on main sequence\n",
    "#(L/L(solar))is approximately (M/M(solar))**(3.5) (is it only for binaries????), M_solar=1.98847*10^30\n",
    "M_div_Ms=(L_div_Ls)**(1/3.5)\n",
    "Mass=(1.98847*10**(30.))*M_div_Ms #this is M=(L/Lsolar)^(1/3.5)*M_solar\n",
    "log_M_div_Ms=np.log(M_div_Ms)"
   ]
  },
  {
   "cell_type": "code",
   "execution_count": 41,
   "metadata": {},
   "outputs": [
    {
     "data": {
      "text/plain": [
       "1        3.116838\n",
       "2        1.082146\n",
       "3        1.227843\n",
       "4        1.543730\n",
       "6        1.614359\n",
       "           ...   \n",
       "16657    1.048507\n",
       "16664    0.951230\n",
       "16677    1.523552\n",
       "16678    2.116968\n",
       "16681    1.378569\n",
       "Name: VMag, Length: 14351, dtype: float64"
      ]
     },
     "execution_count": 41,
     "metadata": {},
     "output_type": "execute_result"
    }
   ],
   "source": [
    "M_div_Ms"
   ]
  },
  {
   "cell_type": "code",
   "execution_count": 42,
   "metadata": {},
   "outputs": [
    {
     "name": "stderr",
     "output_type": "stream",
     "text": [
      "C:\\ProgramData\\Anaconda2\\envs\\py36\\lib\\site-packages\\ipykernel_launcher.py:1: SettingWithCopyWarning: \n",
      "A value is trying to be set on a copy of a slice from a DataFrame.\n",
      "Try using .loc[row_indexer,col_indexer] = value instead\n",
      "\n",
      "See the caveats in the documentation: https://pandas.pydata.org/pandas-docs/stable/user_guide/indexing.html#returning-a-view-versus-a-copy\n",
      "  \"\"\"Entry point for launching an IPython kernel.\n"
     ]
    }
   ],
   "source": [
    "gena['M/M_s']=M_div_Ms"
   ]
  },
  {
   "cell_type": "code",
   "execution_count": 43,
   "metadata": {},
   "outputs": [
    {
     "data": {
      "text/plain": [
       "1        6.197740e+30\n",
       "2        2.151814e+30\n",
       "3        2.441529e+30\n",
       "4        3.069661e+30\n",
       "6        3.210104e+30\n",
       "             ...     \n",
       "16657    2.084925e+30\n",
       "16664    1.891493e+30\n",
       "16677    3.029536e+30\n",
       "16678    4.209527e+30\n",
       "16681    2.741243e+30\n",
       "Name: VMag, Length: 14351, dtype: float64"
      ]
     },
     "execution_count": 43,
     "metadata": {},
     "output_type": "execute_result"
    }
   ],
   "source": [
    "Mass"
   ]
  },
  {
   "cell_type": "code",
   "execution_count": 44,
   "metadata": {},
   "outputs": [
    {
     "name": "stderr",
     "output_type": "stream",
     "text": [
      "C:\\ProgramData\\Anaconda2\\envs\\py36\\lib\\site-packages\\ipykernel_launcher.py:1: SettingWithCopyWarning: \n",
      "A value is trying to be set on a copy of a slice from a DataFrame.\n",
      "Try using .loc[row_indexer,col_indexer] = value instead\n",
      "\n",
      "See the caveats in the documentation: https://pandas.pydata.org/pandas-docs/stable/user_guide/indexing.html#returning-a-view-versus-a-copy\n",
      "  \"\"\"Entry point for launching an IPython kernel.\n"
     ]
    }
   ],
   "source": [
    "gena['Mass']=Mass"
   ]
  },
  {
   "cell_type": "code",
   "execution_count": null,
   "metadata": {},
   "outputs": [],
   "source": []
  },
  {
   "cell_type": "code",
   "execution_count": 45,
   "metadata": {},
   "outputs": [
    {
     "data": {
      "text/plain": [
       "1        1.136819\n",
       "2        0.078946\n",
       "3        0.205259\n",
       "4        0.434202\n",
       "6        0.478938\n",
       "           ...   \n",
       "16657    0.047367\n",
       "16664   -0.049999\n",
       "16677    0.421044\n",
       "16678    0.749985\n",
       "16681    0.321046\n",
       "Name: VMag, Length: 14351, dtype: float64"
      ]
     },
     "execution_count": 45,
     "metadata": {},
     "output_type": "execute_result"
    }
   ],
   "source": [
    "log_M_div_Ms"
   ]
  },
  {
   "cell_type": "code",
   "execution_count": 46,
   "metadata": {},
   "outputs": [
    {
     "name": "stderr",
     "output_type": "stream",
     "text": [
      "C:\\ProgramData\\Anaconda2\\envs\\py36\\lib\\site-packages\\ipykernel_launcher.py:1: SettingWithCopyWarning: \n",
      "A value is trying to be set on a copy of a slice from a DataFrame.\n",
      "Try using .loc[row_indexer,col_indexer] = value instead\n",
      "\n",
      "See the caveats in the documentation: https://pandas.pydata.org/pandas-docs/stable/user_guide/indexing.html#returning-a-view-versus-a-copy\n",
      "  \"\"\"Entry point for launching an IPython kernel.\n"
     ]
    }
   ],
   "source": [
    "gena['log(M/M_s)']=log_M_div_Ms"
   ]
  },
  {
   "cell_type": "code",
   "execution_count": 47,
   "metadata": {},
   "outputs": [
    {
     "data": {
      "image/png": "[encoded data removed]",
      "text/plain": [
       "<Figure size 432x288 with 1 Axes>"
      ]
     },
     "metadata": {
      "needs_background": "light"
     },
     "output_type": "display_data"
    }
   ],
   "source": [
    "#hertz russel diagraM\n",
    "plt.scatter(gena['logTe'],log_L_div_Ls)\n",
    "plt.gca().invert_xaxis()\n"
   ]
  },
  {
   "cell_type": "code",
   "execution_count": 48,
   "metadata": {},
   "outputs": [
    {
     "data": {
      "text/plain": [
       "<matplotlib.collections.PathCollection at 0xaa2eac8>"
      ]
     },
     "execution_count": 48,
     "metadata": {},
     "output_type": "execute_result"
    },
    {
     "data": {
      "image/png": "[encoded data removed]",
      "text/plain": [
       "<Figure size 432x288 with 1 Axes>"
      ]
     },
     "metadata": {
      "needs_background": "light"
     },
     "output_type": "display_data"
    }
   ],
   "source": [
    "#MASS LUMInosity graph\n",
    "plt.scatter(log_M_div_Ms,log_L_div_Ls)\n",
    "\n"
   ]
  },
  {
   "cell_type": "code",
   "execution_count": 49,
   "metadata": {},
   "outputs": [
    {
     "data": {
      "image/png": "[encoded data removed]",
      "text/plain": [
       "<Figure size 432x288 with 1 Axes>"
      ]
     },
     "metadata": {
      "needs_background": "light"
     },
     "output_type": "display_data"
    }
   ],
   "source": [
    "#color index magnitude, FIX THISSS   abs mag vs v-b\n",
    "plt.scatter(vb,gena['VMag'])\n",
    "plt.gca().invert_yaxis()\n"
   ]
  },
  {
   "cell_type": "code",
   "execution_count": 50,
   "metadata": {},
   "outputs": [
    {
     "data": {
      "image/png": "[encoded data removed]",
      "text/plain": [
       "<Figure size 432x288 with 1 Axes>"
      ]
     },
     "metadata": {
      "needs_background": "light"
     },
     "output_type": "display_data"
    }
   ],
   "source": [
    "#color mag diag abs mag vs b-y\n",
    "plt.scatter(gena['b-y'],gena['VMag'])\n",
    "plt.gca().invert_yaxis()"
   ]
  },
  {
   "cell_type": "code",
   "execution_count": 51,
   "metadata": {},
   "outputs": [
    {
     "data": {
      "image/png": "[encoded data removed]",
      "text/plain": [
       "<Figure size 432x288 with 1 Axes>"
      ]
     },
     "metadata": {
      "needs_background": "light"
     },
     "output_type": "display_data"
    }
   ],
   "source": [
    "#color mag diag abs mag vs m1\n",
    "plt.scatter(gena['m1'],gena['VMag'])\n",
    "plt.gca().invert_yaxis()"
   ]
  },
  {
   "cell_type": "code",
   "execution_count": 52,
   "metadata": {},
   "outputs": [
    {
     "data": {
      "image/png": "[encoded data removed]",
      "text/plain": [
       "<Figure size 432x288 with 1 Axes>"
      ]
     },
     "metadata": {
      "needs_background": "light"
     },
     "output_type": "display_data"
    }
   ],
   "source": [
    "#color mag diag abs mag vs c1\n",
    "plt.scatter(gena['c1'],gena['VMag'])\n",
    "plt.gca().invert_yaxis()"
   ]
  },
  {
   "cell_type": "code",
   "execution_count": 53,
   "metadata": {},
   "outputs": [
    {
     "data": {
      "text/plain": [
       "<matplotlib.collections.PathCollection at 0xad62860>"
      ]
     },
     "execution_count": 53,
     "metadata": {},
     "output_type": "execute_result"
    },
    {
     "data": {
      "image/png": "[encoded data removed]",
      "text/plain": [
       "<Figure size 432x288 with 1 Axes>"
      ]
     },
     "metadata": {
      "needs_background": "light"
     },
     "output_type": "display_data"
    }
   ],
   "source": [
    "#b-y vs m1\n",
    "plt.scatter(gena['b-y'],gena['m1'])\n"
   ]
  },
  {
   "cell_type": "code",
   "execution_count": 54,
   "metadata": {},
   "outputs": [
    {
     "data": {
      "text/plain": [
       "<matplotlib.collections.PathCollection at 0xadce550>"
      ]
     },
     "execution_count": 54,
     "metadata": {},
     "output_type": "execute_result"
    },
    {
     "data": {
      "image/png": "[encoded data removed]",
      "text/plain": [
       "<Figure size 432x288 with 1 Axes>"
      ]
     },
     "metadata": {
      "needs_background": "light"
     },
     "output_type": "display_data"
    }
   ],
   "source": [
    "#m1 vs c1\n",
    "plt.scatter(gena['c1'],gena['m1'])\n"
   ]
  },
  {
   "cell_type": "code",
   "execution_count": 55,
   "metadata": {},
   "outputs": [
    {
     "data": {
      "text/plain": [
       "<matplotlib.collections.PathCollection at 0xae36518>"
      ]
     },
     "execution_count": 55,
     "metadata": {},
     "output_type": "execute_result"
    },
    {
     "data": {
      "image/png": "[encoded data removed]",
      "text/plain": [
       "<Figure size 432x288 with 1 Axes>"
      ]
     },
     "metadata": {
      "needs_background": "light"
     },
     "output_type": "display_data"
    }
   ],
   "source": [
    "plt.scatter(R,Mass)\n"
   ]
  },
  {
   "cell_type": "code",
   "execution_count": 56,
   "metadata": {},
   "outputs": [],
   "source": [
    "gena.to_csv('gena_py.csv')"
   ]
  },
  {
   "cell_type": "code",
   "execution_count": 57,
   "metadata": {},
   "outputs": [
    {
     "ename": "AttributeError",
     "evalue": "'DataFrame' object has no attribute 'lst'",
     "output_type": "error",
     "traceback": [
      "\u001b[1;31m---------------------------------------------------------------------------\u001b[0m",
      "\u001b[1;31mAttributeError\u001b[0m                            Traceback (most recent call last)",
      "\u001b[1;32m<ipython-input-57-84672e1df439>\u001b[0m in \u001b[0;36m<module>\u001b[1;34m\u001b[0m\n\u001b[1;32m----> 1\u001b[1;33m \u001b[0mgena\u001b[0m\u001b[1;33m.\u001b[0m\u001b[0mlst\u001b[0m\u001b[1;33m(\u001b[0m\u001b[1;33m)\u001b[0m\u001b[1;33m\u001b[0m\u001b[1;33m\u001b[0m\u001b[0m\n\u001b[0m",
      "\u001b[1;32mC:\\ProgramData\\Anaconda2\\envs\\py36\\lib\\site-packages\\pandas\\core\\generic.py\u001b[0m in \u001b[0;36m__getattr__\u001b[1;34m(self, name)\u001b[0m\n\u001b[0;32m   5139\u001b[0m             \u001b[1;32mif\u001b[0m \u001b[0mself\u001b[0m\u001b[1;33m.\u001b[0m\u001b[0m_info_axis\u001b[0m\u001b[1;33m.\u001b[0m\u001b[0m_can_hold_identifiers_and_holds_name\u001b[0m\u001b[1;33m(\u001b[0m\u001b[0mname\u001b[0m\u001b[1;33m)\u001b[0m\u001b[1;33m:\u001b[0m\u001b[1;33m\u001b[0m\u001b[1;33m\u001b[0m\u001b[0m\n\u001b[0;32m   5140\u001b[0m                 \u001b[1;32mreturn\u001b[0m \u001b[0mself\u001b[0m\u001b[1;33m[\u001b[0m\u001b[0mname\u001b[0m\u001b[1;33m]\u001b[0m\u001b[1;33m\u001b[0m\u001b[1;33m\u001b[0m\u001b[0m\n\u001b[1;32m-> 5141\u001b[1;33m             \u001b[1;32mreturn\u001b[0m \u001b[0mobject\u001b[0m\u001b[1;33m.\u001b[0m\u001b[0m__getattribute__\u001b[0m\u001b[1;33m(\u001b[0m\u001b[0mself\u001b[0m\u001b[1;33m,\u001b[0m \u001b[0mname\u001b[0m\u001b[1;33m)\u001b[0m\u001b[1;33m\u001b[0m\u001b[1;33m\u001b[0m\u001b[0m\n\u001b[0m\u001b[0;32m   5142\u001b[0m \u001b[1;33m\u001b[0m\u001b[0m\n\u001b[0;32m   5143\u001b[0m     \u001b[1;32mdef\u001b[0m \u001b[0m__setattr__\u001b[0m\u001b[1;33m(\u001b[0m\u001b[0mself\u001b[0m\u001b[1;33m,\u001b[0m \u001b[0mname\u001b[0m\u001b[1;33m:\u001b[0m \u001b[0mstr\u001b[0m\u001b[1;33m,\u001b[0m \u001b[0mvalue\u001b[0m\u001b[1;33m)\u001b[0m \u001b[1;33m->\u001b[0m \u001b[1;32mNone\u001b[0m\u001b[1;33m:\u001b[0m\u001b[1;33m\u001b[0m\u001b[1;33m\u001b[0m\u001b[0m\n",
      "\u001b[1;31mAttributeError\u001b[0m: 'DataFrame' object has no attribute 'lst'"
     ]
    }
   ],
   "source": []
  },
  {
   "cell_type": "code",
   "execution_count": 63,
   "metadata": {},
   "outputs": [],
   "source": [
    "os.chdir('New folder')\n",
    "df = pd.read_csv('iso001.csv')\n"
   ]
  },
  {
   "cell_type": "code",
   "execution_count": 64,
   "metadata": {},
   "outputs": [],
   "source": [
    "def data_split(filename):\n",
    "    df = pd.read_csv(filename)\n",
    "    keep = df.columns\n",
    "    col_names = df.iloc[0]\n",
    "    \n",
    "    df.drop('#', axis=1, inplace=True)\n",
    "    df.drop(0, axis=0, inplace=True)\n",
    "    df.columns = col_names[:-1].values\n",
    "    \n",
    "    ages = df[df['# log(age/yr)'] == 'Isochrone']['logTe']\n",
    "    ages.loc[0] = keep[5]\n",
    "    \n",
    "    ages.sort_index(inplace=True)\n",
    "    ages = ages.to_frame()\n",
    "    ages.reset_index(inplace=True)\n",
    "    ages.rename(columns={'index':'row_number', 'logTe':'age'}, inplace=True)\n",
    "    \n",
    "    data = {}\n",
    "\n",
    "    for i in ages.index:\n",
    "        if i == 0:\n",
    "            data[ages['age'][i]] = df.loc[0:ages['row_number'][i+1] - 1]\n",
    "        elif i == ages.index[-1]:\n",
    "            data[ages['age'][i]] = df.loc[ages['row_number'][i]:]\n",
    "        else:\n",
    "            data[ages['age'][i]] = df.loc[ages['row_number'][i] + 2:ages['row_number'][i+1] - 1]\n",
    "\n",
    "    return data"
   ]
  },
  {
   "cell_type": "code",
   "execution_count": 74,
   "metadata": {},
   "outputs": [
    {
     "name": "stderr",
     "output_type": "stream",
     "text": [
      "C:\\ProgramData\\Anaconda2\\envs\\py36\\lib\\site-packages\\ipykernel_launcher.py:13: SettingWithCopyWarning: \n",
      "A value is trying to be set on a copy of a slice from a DataFrame\n",
      "\n",
      "See the caveats in the documentation: https://pandas.pydata.org/pandas-docs/stable/user_guide/indexing.html#returning-a-view-versus-a-copy\n",
      "  del sys.path[0]\n"
     ]
    }
   ],
   "source": [
    "data001 = data_split('iso001.csv')\n",
    "data19=data_split('iso019nov.csv')"
   ]
  },
  {
   "cell_type": "code",
   "execution_count": 75,
   "metadata": {},
   "outputs": [
    {
     "data": {
      "text/plain": [
       "dict_keys(['6.310e+07 yr', '7.079e+07 yr', '7.943e+07 yr', '8.913e+07 yr', '1.000e+08 yr', '1.122e+08 yr', '1.259e+08 yr', '1.413e+08 yr', '1.585e+08 yr', '1.778e+08 yr', '1.995e+08 yr', '2.239e+08 yr', '2.512e+08 yr', '2.818e+08 yr', '3.162e+08 yr', '3.548e+08 yr', '3.981e+08 yr', '4.467e+08 yr', '5.012e+08 yr', '5.623e+08 yr', '6.310e+08 yr', '7.080e+08 yr', '7.943e+08 yr', '8.913e+08 yr', '1.000e+09 yr', '1.122e+09 yr', '1.259e+09 yr', '1.413e+09 yr', '1.585e+09 yr', '1.778e+09 yr', '1.995e+09 yr', '2.239e+09 yr', '2.512e+09 yr', '2.818e+09 yr', '3.162e+09 yr', '3.548e+09 yr', '3.981e+09 yr', '4.467e+09 yr', '5.012e+09 yr', '5.624e+09 yr', '6.310e+09 yr', '7.080e+09 yr', '7.943e+09 yr', '8.913e+09 yr', '1.000e+10 yr', '1.122e+10 yr', '1.259e+10 yr', '1.413e+10 yr', '1.585e+10 yr', '1.778e+10 yr'])"
      ]
     },
     "execution_count": 75,
     "metadata": {},
     "output_type": "execute_result"
    }
   ],
   "source": [
    "data19.keys()"
   ]
  },
  {
   "cell_type": "code",
   "execution_count": 79,
   "metadata": {},
   "outputs": [
    {
     "data": {
      "image/png": "[encoded data removed]",
      "text/plain": [
       "<Figure size 864x576 with 1 Axes>"
      ]
     },
     "metadata": {
      "needs_background": "light"
     },
     "output_type": "display_data"
    }
   ],
   "source": [
    "plt.figure(figsize=(12, 8))\n",
    "plt.scatter(gena['logTe'],gena['VMag'])\n",
    "plt.plot(data19['3.548e+09 yr']['logTe'],data19['3.548e+09 yr']['Mbol '])\n",
    "\n",
    "plt.xlim(3.6, 3.9)\n",
    "plt.ylim(-1, 8)\n",
    "plt.gca().invert_xaxis()\n",
    "plt.gca().invert_yaxis()"
   ]
  },
  {
   "cell_type": "code",
   "execution_count": 67,
   "metadata": {},
   "outputs": [
    {
     "data": {
      "text/plain": [
       "<matplotlib.collections.PathCollection at 0x5b8a128>"
      ]
     },
     "execution_count": 67,
     "metadata": {},
     "output_type": "execute_result"
    },
    {
     "data": {
      "image/png": "[encoded data removed]",
      "text/plain": [
       "<Figure size 432x288 with 1 Axes>"
      ]
     },
     "metadata": {
      "needs_background": "light"
     },
     "output_type": "display_data"
    }
   ],
   "source": [
    "plt.scatter(gena['logTe'],gena['VMag'])\n"
   ]
  },
  {
   "cell_type": "code",
   "execution_count": 62,
   "metadata": {},
   "outputs": [
    {
     "ename": "NameError",
     "evalue": "name 'data001' is not defined",
     "output_type": "error",
     "traceback": [
      "\u001b[1;31m---------------------------------------------------------------------------\u001b[0m",
      "\u001b[1;31mNameError\u001b[0m                                 Traceback (most recent call last)",
      "\u001b[1;32m<ipython-input-62-979a3d61567a>\u001b[0m in \u001b[0;36m<module>\u001b[1;34m\u001b[0m\n\u001b[1;32m----> 1\u001b[1;33m \u001b[0mdata001\u001b[0m\u001b[1;33m[\u001b[0m\u001b[1;34m'1.778e+10 yr'\u001b[0m\u001b[1;33m]\u001b[0m\u001b[1;33m.\u001b[0m\u001b[0mto_csv\u001b[0m\u001b[1;33m(\u001b[0m\u001b[1;34m'1 78 gyr.csv'\u001b[0m\u001b[1;33m)\u001b[0m\u001b[1;33m\u001b[0m\u001b[1;33m\u001b[0m\u001b[0m\n\u001b[0m",
      "\u001b[1;31mNameError\u001b[0m: name 'data001' is not defined"
     ]
    }
   ],
   "source": [
    "data001['1.778e+10 yr'].to_csv('1 78 gyr.csv')"
   ]
  },
  {
   "cell_type": "code",
   "execution_count": 72,
   "metadata": {},
   "outputs": [
    {
     "data": {
      "text/plain": [
       "8.732788324973118"
      ]
     },
     "execution_count": 72,
     "metadata": {},
     "output_type": "execute_result"
    }
   ],
   "source": [
    "np.log(6203)"
   ]
  },
  {
   "cell_type": "code",
   "execution_count": null,
   "metadata": {},
   "outputs": [],
   "source": []
  },
  {
   "cell_type": "code",
   "execution_count": null,
   "metadata": {},
   "outputs": [],
   "source": []
  }
 ],
 "metadata": {
  "kernelspec": {
   "display_name": "Python 3",
   "language": "python",
   "name": "python3"
  },
  "language_info": {
   "codemirror_mode": {
    "name": "ipython",
    "version": 3
   },
   "file_extension": ".py",
   "mimetype": "text/x-python",
   "name": "python",
   "nbconvert_exporter": "python",
   "pygments_lexer": "ipython3",
   "version": "3.6.7"
  }
 },
 "nbformat": 4,
 "nbformat_minor": 2
}
